{
 "cells": [
  {
   "cell_type": "code",
   "execution_count": 22,
   "metadata": {},
   "outputs": [],
   "source": [
    "import pandas as pd\n",
    "from sklearn.model_selection import train_test_split\n",
    "from sklearn.ensemble import RandomForestClassifier\n",
    "from sklearn.metrics import accuracy_score\n",
    "from sklearn.preprocessing import StandardScaler\n",
    "from tabulate import tabulate"
   ]
  },
  {
   "cell_type": "code",
   "execution_count": 3,
   "metadata": {},
   "outputs": [],
   "source": [
    "df=pd.read_csv('/Users/hondamir/Desktop/Artificial Intelligence/Airplane Services.csv')"
   ]
  },
  {
   "cell_type": "code",
   "execution_count": 4,
   "metadata": {},
   "outputs": [
    {
     "name": "stdout",
     "output_type": "stream",
     "text": [
      "<class 'pandas.core.frame.DataFrame'>\n",
      "RangeIndex: 50000 entries, 0 to 49999\n",
      "Data columns (total 24 columns):\n",
      " #   Column                             Non-Null Count  Dtype  \n",
      "---  ------                             --------------  -----  \n",
      " 0   id                                 50000 non-null  int64  \n",
      " 1   Gender                             50000 non-null  object \n",
      " 2   Customer Type                      50000 non-null  object \n",
      " 3   Age                                50000 non-null  int64  \n",
      " 4   Type of Travel                     50000 non-null  object \n",
      " 5   Class                              50000 non-null  object \n",
      " 6   Flight Distance                    50000 non-null  int64  \n",
      " 7   Inflight wifi service              50000 non-null  int64  \n",
      " 8   Departure/Arrival time convenient  50000 non-null  int64  \n",
      " 9   Ease of Online booking             50000 non-null  int64  \n",
      " 10  Gate location                      50000 non-null  int64  \n",
      " 11  Food and drink                     50000 non-null  int64  \n",
      " 12  Online boarding                    50000 non-null  int64  \n",
      " 13  Seat comfort                       50000 non-null  int64  \n",
      " 14  Inflight entertainment             50000 non-null  int64  \n",
      " 15  On-board service                   50000 non-null  int64  \n",
      " 16  Leg room service                   50000 non-null  int64  \n",
      " 17  Baggage handling                   50000 non-null  int64  \n",
      " 18  Checkin service                    50000 non-null  int64  \n",
      " 19  Inflight service                   50000 non-null  int64  \n",
      " 20  Cleanliness                        50000 non-null  int64  \n",
      " 21  Departure Delay in Minutes         50000 non-null  int64  \n",
      " 22  Arrival Delay in Minutes           49842 non-null  float64\n",
      " 23  satisfaction                       50000 non-null  object \n",
      "dtypes: float64(1), int64(18), object(5)\n",
      "memory usage: 9.2+ MB\n"
     ]
    }
   ],
   "source": [
    "df.info()"
   ]
  },
  {
   "cell_type": "code",
   "execution_count": 5,
   "metadata": {},
   "outputs": [
    {
     "name": "stderr",
     "output_type": "stream",
     "text": [
      "/var/folders/2n/8mc_gc0j7_b8xfff_rzhf5740000gn/T/ipykernel_2574/2273961815.py:4: FutureWarning: A value is trying to be set on a copy of a DataFrame or Series through chained assignment using an inplace method.\n",
      "The behavior will change in pandas 3.0. This inplace method will never work because the intermediate object on which we are setting values always behaves as a copy.\n",
      "\n",
      "For example, when doing 'df[col].method(value, inplace=True)', try using 'df.method({col: value}, inplace=True)' or df[col] = df[col].method(value) instead, to perform the operation inplace on the original object.\n",
      "\n",
      "\n",
      "  df_filled[\"Arrival Delay in Minutes\"].fillna(df_filled[\"Arrival Delay in Minutes\"].median(), inplace=True)\n"
     ]
    }
   ],
   "source": [
    "# Klibsiz ma'lumotlarni qayta ishlash\n",
    "\n",
    "df_filled = df.copy()\n",
    "df_filled[\"Arrival Delay in Minutes\"].fillna(df_filled[\"Arrival Delay in Minutes\"].median(), inplace=True)"
   ]
  },
  {
   "cell_type": "code",
   "execution_count": 6,
   "metadata": {},
   "outputs": [],
   "source": [
    "# Kategorik ma'lumotlarni kodlash\n",
    "df_encoded = pd.get_dummies(df_filled, drop_first=True)"
   ]
  },
  {
   "cell_type": "code",
   "execution_count": 8,
   "metadata": {},
   "outputs": [
    {
     "name": "stdout",
     "output_type": "stream",
     "text": [
      "<class 'pandas.core.frame.DataFrame'>\n",
      "RangeIndex: 50000 entries, 0 to 49999\n",
      "Data columns (total 25 columns):\n",
      " #   Column                             Non-Null Count  Dtype  \n",
      "---  ------                             --------------  -----  \n",
      " 0   id                                 50000 non-null  int64  \n",
      " 1   Age                                50000 non-null  int64  \n",
      " 2   Flight Distance                    50000 non-null  int64  \n",
      " 3   Inflight wifi service              50000 non-null  int64  \n",
      " 4   Departure/Arrival time convenient  50000 non-null  int64  \n",
      " 5   Ease of Online booking             50000 non-null  int64  \n",
      " 6   Gate location                      50000 non-null  int64  \n",
      " 7   Food and drink                     50000 non-null  int64  \n",
      " 8   Online boarding                    50000 non-null  int64  \n",
      " 9   Seat comfort                       50000 non-null  int64  \n",
      " 10  Inflight entertainment             50000 non-null  int64  \n",
      " 11  On-board service                   50000 non-null  int64  \n",
      " 12  Leg room service                   50000 non-null  int64  \n",
      " 13  Baggage handling                   50000 non-null  int64  \n",
      " 14  Checkin service                    50000 non-null  int64  \n",
      " 15  Inflight service                   50000 non-null  int64  \n",
      " 16  Cleanliness                        50000 non-null  int64  \n",
      " 17  Departure Delay in Minutes         50000 non-null  int64  \n",
      " 18  Arrival Delay in Minutes           50000 non-null  float64\n",
      " 19  Gender_Male                        50000 non-null  bool   \n",
      " 20  Customer Type_disloyal Customer    50000 non-null  bool   \n",
      " 21  Type of Travel_Personal Travel     50000 non-null  bool   \n",
      " 22  Class_Eco                          50000 non-null  bool   \n",
      " 23  Class_Eco Plus                     50000 non-null  bool   \n",
      " 24  satisfaction_satisfied             50000 non-null  bool   \n",
      "dtypes: bool(6), float64(1), int64(18)\n",
      "memory usage: 7.5 MB\n"
     ]
    }
   ],
   "source": [
    "df_encoded.info()"
   ]
  },
  {
   "cell_type": "code",
   "execution_count": 10,
   "metadata": {},
   "outputs": [],
   "source": [
    "# Ma'lumotlarni ajratib chiqish\n",
    "x = df_encoded.drop(columns=[\"id\", \"satisfaction_satisfied\"])\n",
    "y = df_encoded[\"satisfaction_satisfied\"]"
   ]
  },
  {
   "cell_type": "code",
   "execution_count": 12,
   "metadata": {},
   "outputs": [],
   "source": [
    "# Ma'lumotlarni train va test qismiga ajratib chiqish\n",
    "x_train, x_test, y_train, y_test = train_test_split(x, y, test_size=0.2, random_state=42)"
   ]
  },
  {
   "cell_type": "code",
   "execution_count": 14,
   "metadata": {},
   "outputs": [],
   "source": [
    "# Klibsiz modelni o'qitish\n",
    "model_no_klib = RandomForestClassifier(n_estimators=100, random_state=42)\n",
    "model_no_klib.fit(x_train, y_train)\n",
    "y_pred_no_klib = model_no_klib.predict(x_test)\n",
    "accuracy_no_klib = accuracy_score(y_test, y_pred_no_klib)"
   ]
  },
  {
   "cell_type": "code",
   "execution_count": 15,
   "metadata": {},
   "outputs": [],
   "source": [
    "# Klibli modelni o'qitish\n",
    "df_klib = df_encoded.copy()\n",
    "scaler = StandardScaler()\n",
    "numerical_cols = [\"Age\", \"Flight Distance\", \"Departure Delay in Minutes\", \"Arrival Delay in Minutes\"]\n",
    "df_klib[numerical_cols] = scaler.fit_transform(df_klib[numerical_cols])"
   ]
  },
  {
   "cell_type": "code",
   "execution_count": 17,
   "metadata": {},
   "outputs": [],
   "source": [
    "# Train va test qismiga ajratib chiqish\n",
    "x_klib = df_klib.drop(columns=[\"id\", \"satisfaction_satisfied\"])\n",
    "y_klib = df_klib[\"satisfaction_satisfied\"]\n",
    "x_train_klib, x_test_klib, y_train_klib, y_test_klib = train_test_split(x_klib, y_klib, test_size=0.2, random_state=42)"
   ]
  },
  {
   "cell_type": "code",
   "execution_count": 18,
   "metadata": {},
   "outputs": [],
   "source": [
    "# Klibli modelni o'qitish\n",
    "model_klib = RandomForestClassifier(n_estimators=100, random_state=42)\n",
    "model_klib.fit(x_train_klib, y_train_klib)\n",
    "y_pred_klib = model_klib.predict(x_test_klib)\n",
    "accuracy_klib = accuracy_score(y_test_klib, y_pred_klib)"
   ]
  },
  {
   "cell_type": "code",
   "execution_count": 25,
   "metadata": {},
   "outputs": [],
   "source": [
    "# Natijalarni chiqarish\n",
    "result = pd.DataFrame({\n",
    "    \"Model\": [\"Klibsiz\", \"Klib bilan\"],\n",
    "    \"Accuracy\": [accuracy_no_klib, accuracy_klib]\n",
    "})"
   ]
  },
  {
   "cell_type": "code",
   "execution_count": 26,
   "metadata": {},
   "outputs": [
    {
     "name": "stdout",
     "output_type": "stream",
     "text": [
      "+---+------------+----------+\n",
      "|   |   Model    | Accuracy |\n",
      "+---+------------+----------+\n",
      "| 0 |  Klibsiz   |  0.9623  |\n",
      "| 1 | Klib bilan |  0.9621  |\n",
      "+---+------------+----------+\n"
     ]
    }
   ],
   "source": [
    "# Natijalarni tabulate yordamida chiqarish\n",
    "print(tabulate(result, headers='keys', tablefmt='pretty'))"
   ]
  }
 ],
 "metadata": {
  "kernelspec": {
   "display_name": "Python 3",
   "language": "python",
   "name": "python3"
  },
  "language_info": {
   "codemirror_mode": {
    "name": "ipython",
    "version": 3
   },
   "file_extension": ".py",
   "mimetype": "text/x-python",
   "name": "python",
   "nbconvert_exporter": "python",
   "pygments_lexer": "ipython3",
   "version": "3.13.1"
  }
 },
 "nbformat": 4,
 "nbformat_minor": 2
}
