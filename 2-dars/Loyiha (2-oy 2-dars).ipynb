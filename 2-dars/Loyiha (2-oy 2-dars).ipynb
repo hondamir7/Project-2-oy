{
 "cells": [
  {
   "cell_type": "code",
   "execution_count": 1,
   "metadata": {},
   "outputs": [],
   "source": [
    "import pandas as pd\n",
    "from sklearn.feature_selection import mutual_info_classif\n",
    "from tabulate import tabulate"
   ]
  },
  {
   "cell_type": "code",
   "execution_count": 2,
   "metadata": {},
   "outputs": [
    {
     "name": "stderr",
     "output_type": "stream",
     "text": [
      "/var/folders/2n/8mc_gc0j7_b8xfff_rzhf5740000gn/T/ipykernel_3431/2349234669.py:1: DtypeWarning: Columns (16) have mixed types. Specify dtype option on import or set low_memory=False.\n",
      "  df=pd.read_csv('Corporate Stress.csv')\n"
     ]
    }
   ],
   "source": [
    "df=pd.read_csv('Corporate Stress.csv')"
   ]
  },
  {
   "cell_type": "code",
   "execution_count": 3,
   "metadata": {},
   "outputs": [
    {
     "name": "stdout",
     "output_type": "stream",
     "text": [
      "<class 'pandas.core.frame.DataFrame'>\n",
      "RangeIndex: 50000 entries, 0 to 49999\n",
      "Data columns (total 30 columns):\n",
      " #   Column                            Non-Null Count  Dtype  \n",
      "---  ------                            --------------  -----  \n",
      " 0   ID                                50000 non-null  int64  \n",
      " 1   Age                               50000 non-null  int64  \n",
      " 2   Gender                            50000 non-null  object \n",
      " 3   Marital_Status                    50000 non-null  object \n",
      " 4   Job_Role                          49999 non-null  object \n",
      " 5   Experience_Years                  50000 non-null  int64  \n",
      " 6   Monthly_Salary_INR                50000 non-null  float64\n",
      " 7   Working_Hours_per_Week            50000 non-null  int64  \n",
      " 8   Commute_Time_Hours                49999 non-null  float64\n",
      " 9   Remote_Work                       50000 non-null  bool   \n",
      " 10  Stress_Level                      49999 non-null  float64\n",
      " 11  Health_Issues                     37459 non-null  object \n",
      " 12  Company_Size                      50000 non-null  object \n",
      " 13  Department                        50000 non-null  object \n",
      " 14  Sleep_Hours                       50000 non-null  float64\n",
      " 15  Physical_Activity_Hours_per_Week  50000 non-null  float64\n",
      " 16  Mental_Health_Leave_Taken         49999 non-null  object \n",
      " 17  Manager_Support_Level             50000 non-null  int64  \n",
      " 18  Work_Pressure_Level               49999 non-null  float64\n",
      " 19  Annual_Leaves_Taken               49999 non-null  float64\n",
      " 20  Work_Life_Balance                 49998 non-null  float64\n",
      " 21  Family_Support_Level              50000 non-null  int64  \n",
      " 22  Job_Satisfaction                  50000 non-null  int64  \n",
      " 23  Performance_Rating                49999 non-null  float64\n",
      " 24  Team_Size                         50000 non-null  int64  \n",
      " 25  Training_Opportunities            50000 non-null  bool   \n",
      " 26  Gender_Bias_Experienced           50000 non-null  bool   \n",
      " 27  Discrimination_Experienced        50000 non-null  bool   \n",
      " 28  Burnout_Symptoms                  50000 non-null  object \n",
      " 29  Location                          50000 non-null  object \n",
      "dtypes: bool(4), float64(9), int64(8), object(9)\n",
      "memory usage: 10.1+ MB\n"
     ]
    }
   ],
   "source": [
    "df.info()"
   ]
  },
  {
   "cell_type": "code",
   "execution_count": 4,
   "metadata": {},
   "outputs": [
    {
     "data": {
      "text/plain": [
       "ID                                      0\n",
       "Age                                     0\n",
       "Gender                                  0\n",
       "Marital_Status                          0\n",
       "Job_Role                                1\n",
       "Experience_Years                        0\n",
       "Monthly_Salary_INR                      0\n",
       "Working_Hours_per_Week                  0\n",
       "Commute_Time_Hours                      1\n",
       "Remote_Work                             0\n",
       "Stress_Level                            1\n",
       "Health_Issues                       12541\n",
       "Company_Size                            0\n",
       "Department                              0\n",
       "Sleep_Hours                             0\n",
       "Physical_Activity_Hours_per_Week        0\n",
       "Mental_Health_Leave_Taken               1\n",
       "Manager_Support_Level                   0\n",
       "Work_Pressure_Level                     1\n",
       "Annual_Leaves_Taken                     1\n",
       "Work_Life_Balance                       2\n",
       "Family_Support_Level                    0\n",
       "Job_Satisfaction                        0\n",
       "Performance_Rating                      1\n",
       "Team_Size                               0\n",
       "Training_Opportunities                  0\n",
       "Gender_Bias_Experienced                 0\n",
       "Discrimination_Experienced              0\n",
       "Burnout_Symptoms                        0\n",
       "Location                                0\n",
       "dtype: int64"
      ]
     },
     "execution_count": 4,
     "metadata": {},
     "output_type": "execute_result"
    }
   ],
   "source": [
    "df.isnull().sum()"
   ]
  },
  {
   "cell_type": "code",
   "execution_count": 5,
   "metadata": {},
   "outputs": [
    {
     "name": "stderr",
     "output_type": "stream",
     "text": [
      "/var/folders/2n/8mc_gc0j7_b8xfff_rzhf5740000gn/T/ipykernel_3431/2359605460.py:3: FutureWarning: A value is trying to be set on a copy of a DataFrame or Series through chained assignment using an inplace method.\n",
      "The behavior will change in pandas 3.0. This inplace method will never work because the intermediate object on which we are setting values always behaves as a copy.\n",
      "\n",
      "For example, when doing 'df[col].method(value, inplace=True)', try using 'df.method({col: value}, inplace=True)' or df[col] = df[col].method(value) instead, to perform the operation inplace on the original object.\n",
      "\n",
      "\n",
      "  df[col].fillna(df[col].median(), inplace=True)\n",
      "/var/folders/2n/8mc_gc0j7_b8xfff_rzhf5740000gn/T/ipykernel_3431/2359605460.py:3: FutureWarning: A value is trying to be set on a copy of a DataFrame or Series through chained assignment using an inplace method.\n",
      "The behavior will change in pandas 3.0. This inplace method will never work because the intermediate object on which we are setting values always behaves as a copy.\n",
      "\n",
      "For example, when doing 'df[col].method(value, inplace=True)', try using 'df.method({col: value}, inplace=True)' or df[col] = df[col].method(value) instead, to perform the operation inplace on the original object.\n",
      "\n",
      "\n",
      "  df[col].fillna(df[col].median(), inplace=True)\n",
      "/var/folders/2n/8mc_gc0j7_b8xfff_rzhf5740000gn/T/ipykernel_3431/2359605460.py:3: FutureWarning: A value is trying to be set on a copy of a DataFrame or Series through chained assignment using an inplace method.\n",
      "The behavior will change in pandas 3.0. This inplace method will never work because the intermediate object on which we are setting values always behaves as a copy.\n",
      "\n",
      "For example, when doing 'df[col].method(value, inplace=True)', try using 'df.method({col: value}, inplace=True)' or df[col] = df[col].method(value) instead, to perform the operation inplace on the original object.\n",
      "\n",
      "\n",
      "  df[col].fillna(df[col].median(), inplace=True)\n",
      "/var/folders/2n/8mc_gc0j7_b8xfff_rzhf5740000gn/T/ipykernel_3431/2359605460.py:3: FutureWarning: A value is trying to be set on a copy of a DataFrame or Series through chained assignment using an inplace method.\n",
      "The behavior will change in pandas 3.0. This inplace method will never work because the intermediate object on which we are setting values always behaves as a copy.\n",
      "\n",
      "For example, when doing 'df[col].method(value, inplace=True)', try using 'df.method({col: value}, inplace=True)' or df[col] = df[col].method(value) instead, to perform the operation inplace on the original object.\n",
      "\n",
      "\n",
      "  df[col].fillna(df[col].median(), inplace=True)\n",
      "/var/folders/2n/8mc_gc0j7_b8xfff_rzhf5740000gn/T/ipykernel_3431/2359605460.py:3: FutureWarning: A value is trying to be set on a copy of a DataFrame or Series through chained assignment using an inplace method.\n",
      "The behavior will change in pandas 3.0. This inplace method will never work because the intermediate object on which we are setting values always behaves as a copy.\n",
      "\n",
      "For example, when doing 'df[col].method(value, inplace=True)', try using 'df.method({col: value}, inplace=True)' or df[col] = df[col].method(value) instead, to perform the operation inplace on the original object.\n",
      "\n",
      "\n",
      "  df[col].fillna(df[col].median(), inplace=True)\n",
      "/var/folders/2n/8mc_gc0j7_b8xfff_rzhf5740000gn/T/ipykernel_3431/2359605460.py:3: FutureWarning: A value is trying to be set on a copy of a DataFrame or Series through chained assignment using an inplace method.\n",
      "The behavior will change in pandas 3.0. This inplace method will never work because the intermediate object on which we are setting values always behaves as a copy.\n",
      "\n",
      "For example, when doing 'df[col].method(value, inplace=True)', try using 'df.method({col: value}, inplace=True)' or df[col] = df[col].method(value) instead, to perform the operation inplace on the original object.\n",
      "\n",
      "\n",
      "  df[col].fillna(df[col].median(), inplace=True)\n",
      "/var/folders/2n/8mc_gc0j7_b8xfff_rzhf5740000gn/T/ipykernel_3431/2359605460.py:3: FutureWarning: A value is trying to be set on a copy of a DataFrame or Series through chained assignment using an inplace method.\n",
      "The behavior will change in pandas 3.0. This inplace method will never work because the intermediate object on which we are setting values always behaves as a copy.\n",
      "\n",
      "For example, when doing 'df[col].method(value, inplace=True)', try using 'df.method({col: value}, inplace=True)' or df[col] = df[col].method(value) instead, to perform the operation inplace on the original object.\n",
      "\n",
      "\n",
      "  df[col].fillna(df[col].median(), inplace=True)\n",
      "/var/folders/2n/8mc_gc0j7_b8xfff_rzhf5740000gn/T/ipykernel_3431/2359605460.py:3: FutureWarning: A value is trying to be set on a copy of a DataFrame or Series through chained assignment using an inplace method.\n",
      "The behavior will change in pandas 3.0. This inplace method will never work because the intermediate object on which we are setting values always behaves as a copy.\n",
      "\n",
      "For example, when doing 'df[col].method(value, inplace=True)', try using 'df.method({col: value}, inplace=True)' or df[col] = df[col].method(value) instead, to perform the operation inplace on the original object.\n",
      "\n",
      "\n",
      "  df[col].fillna(df[col].median(), inplace=True)\n",
      "/var/folders/2n/8mc_gc0j7_b8xfff_rzhf5740000gn/T/ipykernel_3431/2359605460.py:3: FutureWarning: A value is trying to be set on a copy of a DataFrame or Series through chained assignment using an inplace method.\n",
      "The behavior will change in pandas 3.0. This inplace method will never work because the intermediate object on which we are setting values always behaves as a copy.\n",
      "\n",
      "For example, when doing 'df[col].method(value, inplace=True)', try using 'df.method({col: value}, inplace=True)' or df[col] = df[col].method(value) instead, to perform the operation inplace on the original object.\n",
      "\n",
      "\n",
      "  df[col].fillna(df[col].median(), inplace=True)\n",
      "/var/folders/2n/8mc_gc0j7_b8xfff_rzhf5740000gn/T/ipykernel_3431/2359605460.py:3: FutureWarning: A value is trying to be set on a copy of a DataFrame or Series through chained assignment using an inplace method.\n",
      "The behavior will change in pandas 3.0. This inplace method will never work because the intermediate object on which we are setting values always behaves as a copy.\n",
      "\n",
      "For example, when doing 'df[col].method(value, inplace=True)', try using 'df.method({col: value}, inplace=True)' or df[col] = df[col].method(value) instead, to perform the operation inplace on the original object.\n",
      "\n",
      "\n",
      "  df[col].fillna(df[col].median(), inplace=True)\n",
      "/var/folders/2n/8mc_gc0j7_b8xfff_rzhf5740000gn/T/ipykernel_3431/2359605460.py:3: FutureWarning: A value is trying to be set on a copy of a DataFrame or Series through chained assignment using an inplace method.\n",
      "The behavior will change in pandas 3.0. This inplace method will never work because the intermediate object on which we are setting values always behaves as a copy.\n",
      "\n",
      "For example, when doing 'df[col].method(value, inplace=True)', try using 'df.method({col: value}, inplace=True)' or df[col] = df[col].method(value) instead, to perform the operation inplace on the original object.\n",
      "\n",
      "\n",
      "  df[col].fillna(df[col].median(), inplace=True)\n",
      "/var/folders/2n/8mc_gc0j7_b8xfff_rzhf5740000gn/T/ipykernel_3431/2359605460.py:3: FutureWarning: A value is trying to be set on a copy of a DataFrame or Series through chained assignment using an inplace method.\n",
      "The behavior will change in pandas 3.0. This inplace method will never work because the intermediate object on which we are setting values always behaves as a copy.\n",
      "\n",
      "For example, when doing 'df[col].method(value, inplace=True)', try using 'df.method({col: value}, inplace=True)' or df[col] = df[col].method(value) instead, to perform the operation inplace on the original object.\n",
      "\n",
      "\n",
      "  df[col].fillna(df[col].median(), inplace=True)\n",
      "/var/folders/2n/8mc_gc0j7_b8xfff_rzhf5740000gn/T/ipykernel_3431/2359605460.py:3: FutureWarning: A value is trying to be set on a copy of a DataFrame or Series through chained assignment using an inplace method.\n",
      "The behavior will change in pandas 3.0. This inplace method will never work because the intermediate object on which we are setting values always behaves as a copy.\n",
      "\n",
      "For example, when doing 'df[col].method(value, inplace=True)', try using 'df.method({col: value}, inplace=True)' or df[col] = df[col].method(value) instead, to perform the operation inplace on the original object.\n",
      "\n",
      "\n",
      "  df[col].fillna(df[col].median(), inplace=True)\n",
      "/var/folders/2n/8mc_gc0j7_b8xfff_rzhf5740000gn/T/ipykernel_3431/2359605460.py:3: FutureWarning: A value is trying to be set on a copy of a DataFrame or Series through chained assignment using an inplace method.\n",
      "The behavior will change in pandas 3.0. This inplace method will never work because the intermediate object on which we are setting values always behaves as a copy.\n",
      "\n",
      "For example, when doing 'df[col].method(value, inplace=True)', try using 'df.method({col: value}, inplace=True)' or df[col] = df[col].method(value) instead, to perform the operation inplace on the original object.\n",
      "\n",
      "\n",
      "  df[col].fillna(df[col].median(), inplace=True)\n",
      "/var/folders/2n/8mc_gc0j7_b8xfff_rzhf5740000gn/T/ipykernel_3431/2359605460.py:3: FutureWarning: A value is trying to be set on a copy of a DataFrame or Series through chained assignment using an inplace method.\n",
      "The behavior will change in pandas 3.0. This inplace method will never work because the intermediate object on which we are setting values always behaves as a copy.\n",
      "\n",
      "For example, when doing 'df[col].method(value, inplace=True)', try using 'df.method({col: value}, inplace=True)' or df[col] = df[col].method(value) instead, to perform the operation inplace on the original object.\n",
      "\n",
      "\n",
      "  df[col].fillna(df[col].median(), inplace=True)\n",
      "/var/folders/2n/8mc_gc0j7_b8xfff_rzhf5740000gn/T/ipykernel_3431/2359605460.py:3: FutureWarning: A value is trying to be set on a copy of a DataFrame or Series through chained assignment using an inplace method.\n",
      "The behavior will change in pandas 3.0. This inplace method will never work because the intermediate object on which we are setting values always behaves as a copy.\n",
      "\n",
      "For example, when doing 'df[col].method(value, inplace=True)', try using 'df.method({col: value}, inplace=True)' or df[col] = df[col].method(value) instead, to perform the operation inplace on the original object.\n",
      "\n",
      "\n",
      "  df[col].fillna(df[col].median(), inplace=True)\n",
      "/var/folders/2n/8mc_gc0j7_b8xfff_rzhf5740000gn/T/ipykernel_3431/2359605460.py:3: FutureWarning: A value is trying to be set on a copy of a DataFrame or Series through chained assignment using an inplace method.\n",
      "The behavior will change in pandas 3.0. This inplace method will never work because the intermediate object on which we are setting values always behaves as a copy.\n",
      "\n",
      "For example, when doing 'df[col].method(value, inplace=True)', try using 'df.method({col: value}, inplace=True)' or df[col] = df[col].method(value) instead, to perform the operation inplace on the original object.\n",
      "\n",
      "\n",
      "  df[col].fillna(df[col].median(), inplace=True)\n",
      "/var/folders/2n/8mc_gc0j7_b8xfff_rzhf5740000gn/T/ipykernel_3431/2359605460.py:5: FutureWarning: A value is trying to be set on a copy of a DataFrame or Series through chained assignment using an inplace method.\n",
      "The behavior will change in pandas 3.0. This inplace method will never work because the intermediate object on which we are setting values always behaves as a copy.\n",
      "\n",
      "For example, when doing 'df[col].method(value, inplace=True)', try using 'df.method({col: value}, inplace=True)' or df[col] = df[col].method(value) instead, to perform the operation inplace on the original object.\n",
      "\n",
      "\n",
      "  df[col].fillna(df[col].mode()[0], inplace=True)\n"
     ]
    }
   ],
   "source": [
    "# 'Missing values'larni to'ldirish\n",
    "for col in df.select_dtypes(include=['float64', 'int64']).columns:\n",
    "    df[col].fillna(df[col].median(), inplace=True)\n",
    "for col in df.select_dtypes(include=['object']).columns:\n",
    "    df[col].fillna(df[col].mode()[0], inplace=True)"
   ]
  },
  {
   "cell_type": "code",
   "execution_count": 6,
   "metadata": {},
   "outputs": [
    {
     "data": {
      "text/plain": [
       "ID                                  0\n",
       "Age                                 0\n",
       "Gender                              0\n",
       "Marital_Status                      0\n",
       "Job_Role                            0\n",
       "Experience_Years                    0\n",
       "Monthly_Salary_INR                  0\n",
       "Working_Hours_per_Week              0\n",
       "Commute_Time_Hours                  0\n",
       "Remote_Work                         0\n",
       "Stress_Level                        0\n",
       "Health_Issues                       0\n",
       "Company_Size                        0\n",
       "Department                          0\n",
       "Sleep_Hours                         0\n",
       "Physical_Activity_Hours_per_Week    0\n",
       "Mental_Health_Leave_Taken           0\n",
       "Manager_Support_Level               0\n",
       "Work_Pressure_Level                 0\n",
       "Annual_Leaves_Taken                 0\n",
       "Work_Life_Balance                   0\n",
       "Family_Support_Level                0\n",
       "Job_Satisfaction                    0\n",
       "Performance_Rating                  0\n",
       "Team_Size                           0\n",
       "Training_Opportunities              0\n",
       "Gender_Bias_Experienced             0\n",
       "Discrimination_Experienced          0\n",
       "Burnout_Symptoms                    0\n",
       "Location                            0\n",
       "dtype: int64"
      ]
     },
     "execution_count": 6,
     "metadata": {},
     "output_type": "execute_result"
    }
   ],
   "source": [
    "df.isnull().sum()"
   ]
  },
  {
   "cell_type": "code",
   "execution_count": 7,
   "metadata": {},
   "outputs": [],
   "source": [
    "# Yangi feature yaratish\n",
    "df[\"Work_Stress_Index\"] = df[\"Work_Pressure_Level\"] * df[\"Working_Hours_per_Week\"] / (df[\"Work_Life_Balance\"] + 1e-6)\n"
   ]
  },
  {
   "cell_type": "code",
   "execution_count": 8,
   "metadata": {},
   "outputs": [
    {
     "name": "stdout",
     "output_type": "stream",
     "text": [
      "<class 'pandas.core.frame.DataFrame'>\n",
      "RangeIndex: 50000 entries, 0 to 49999\n",
      "Data columns (total 31 columns):\n",
      " #   Column                            Non-Null Count  Dtype  \n",
      "---  ------                            --------------  -----  \n",
      " 0   ID                                50000 non-null  int64  \n",
      " 1   Age                               50000 non-null  int64  \n",
      " 2   Gender                            50000 non-null  object \n",
      " 3   Marital_Status                    50000 non-null  object \n",
      " 4   Job_Role                          50000 non-null  object \n",
      " 5   Experience_Years                  50000 non-null  int64  \n",
      " 6   Monthly_Salary_INR                50000 non-null  float64\n",
      " 7   Working_Hours_per_Week            50000 non-null  int64  \n",
      " 8   Commute_Time_Hours                50000 non-null  float64\n",
      " 9   Remote_Work                       50000 non-null  bool   \n",
      " 10  Stress_Level                      50000 non-null  float64\n",
      " 11  Health_Issues                     50000 non-null  object \n",
      " 12  Company_Size                      50000 non-null  object \n",
      " 13  Department                        50000 non-null  object \n",
      " 14  Sleep_Hours                       50000 non-null  float64\n",
      " 15  Physical_Activity_Hours_per_Week  50000 non-null  float64\n",
      " 16  Mental_Health_Leave_Taken         50000 non-null  object \n",
      " 17  Manager_Support_Level             50000 non-null  int64  \n",
      " 18  Work_Pressure_Level               50000 non-null  float64\n",
      " 19  Annual_Leaves_Taken               50000 non-null  float64\n",
      " 20  Work_Life_Balance                 50000 non-null  float64\n",
      " 21  Family_Support_Level              50000 non-null  int64  \n",
      " 22  Job_Satisfaction                  50000 non-null  int64  \n",
      " 23  Performance_Rating                50000 non-null  float64\n",
      " 24  Team_Size                         50000 non-null  int64  \n",
      " 25  Training_Opportunities            50000 non-null  bool   \n",
      " 26  Gender_Bias_Experienced           50000 non-null  bool   \n",
      " 27  Discrimination_Experienced        50000 non-null  bool   \n",
      " 28  Burnout_Symptoms                  50000 non-null  object \n",
      " 29  Location                          50000 non-null  object \n",
      " 30  Work_Stress_Index                 50000 non-null  float64\n",
      "dtypes: bool(4), float64(10), int64(8), object(9)\n",
      "memory usage: 10.5+ MB\n"
     ]
    }
   ],
   "source": [
    "df.info()"
   ]
  },
  {
   "cell_type": "code",
   "execution_count": 9,
   "metadata": {},
   "outputs": [],
   "source": [
    "# Cheksizlik qiymatlarini o'rtacha qiymatga almashtirish\n",
    "df.replace([float(\"inf\"), float(\"-inf\")], df[\"Work_Stress_Index\"].median(), inplace=True)\n"
   ]
  },
  {
   "cell_type": "code",
   "execution_count": 10,
   "metadata": {},
   "outputs": [],
   "source": [
    "# Kategorial o'zgaruvchilarni kodlash (one-hot encoding)\n",
    "df_encoded = pd.get_dummies(df.drop(columns=[\"ID\"]), drop_first=True)"
   ]
  },
  {
   "cell_type": "code",
   "execution_count": 12,
   "metadata": {},
   "outputs": [
    {
     "name": "stdout",
     "output_type": "stream",
     "text": [
      "<class 'pandas.core.frame.DataFrame'>\n",
      "RangeIndex: 50000 entries, 0 to 49999\n",
      "Data columns (total 51 columns):\n",
      " #   Column                            Non-Null Count  Dtype  \n",
      "---  ------                            --------------  -----  \n",
      " 0   Age                               50000 non-null  int64  \n",
      " 1   Experience_Years                  50000 non-null  int64  \n",
      " 2   Monthly_Salary_INR                50000 non-null  float64\n",
      " 3   Working_Hours_per_Week            50000 non-null  int64  \n",
      " 4   Commute_Time_Hours                50000 non-null  float64\n",
      " 5   Remote_Work                       50000 non-null  bool   \n",
      " 6   Stress_Level                      50000 non-null  float64\n",
      " 7   Sleep_Hours                       50000 non-null  float64\n",
      " 8   Physical_Activity_Hours_per_Week  50000 non-null  float64\n",
      " 9   Manager_Support_Level             50000 non-null  int64  \n",
      " 10  Work_Pressure_Level               50000 non-null  float64\n",
      " 11  Annual_Leaves_Taken               50000 non-null  float64\n",
      " 12  Work_Life_Balance                 50000 non-null  float64\n",
      " 13  Family_Support_Level              50000 non-null  int64  \n",
      " 14  Job_Satisfaction                  50000 non-null  int64  \n",
      " 15  Performance_Rating                50000 non-null  float64\n",
      " 16  Team_Size                         50000 non-null  int64  \n",
      " 17  Training_Opportunities            50000 non-null  bool   \n",
      " 18  Gender_Bias_Experienced           50000 non-null  bool   \n",
      " 19  Discrimination_Experienced        50000 non-null  bool   \n",
      " 20  Work_Stress_Index                 50000 non-null  float64\n",
      " 21  Gender_Male                       50000 non-null  bool   \n",
      " 22  Gender_Non-Binary                 50000 non-null  bool   \n",
      " 23  Marital_Status_Married            50000 non-null  bool   \n",
      " 24  Marital_Status_Single             50000 non-null  bool   \n",
      " 25  Marital_Status_Widowed            50000 non-null  bool   \n",
      " 26  Job_Role_Developer                50000 non-null  bool   \n",
      " 27  Job_Role_HR                       50000 non-null  bool   \n",
      " 28  Job_Role_Manager                  50000 non-null  bool   \n",
      " 29  Job_Role_Sales                    50000 non-null  bool   \n",
      " 30  Job_Role_Support                  50000 non-null  bool   \n",
      " 31  Health_Issues_Mental              50000 non-null  bool   \n",
      " 32  Health_Issues_Physical            50000 non-null  bool   \n",
      " 33  Company_Size_Medium               50000 non-null  bool   \n",
      " 34  Company_Size_Small                50000 non-null  bool   \n",
      " 35  Department_Finance                50000 non-null  bool   \n",
      " 36  Department_HR                     50000 non-null  bool   \n",
      " 37  Department_IT                     50000 non-null  bool   \n",
      " 38  Department_Marketing              50000 non-null  bool   \n",
      " 39  Department_Sales                  50000 non-null  bool   \n",
      " 40  Mental_Health_Leave_Taken_True    50000 non-null  bool   \n",
      " 41  Mental_Health_Leave_Taken_0       50000 non-null  bool   \n",
      " 42  Mental_Health_Leave_Taken_1       50000 non-null  bool   \n",
      " 43  Mental_Health_Leave_Taken_FALSE   50000 non-null  bool   \n",
      " 44  Mental_Health_Leave_Taken_TRUE    50000 non-null  bool   \n",
      " 45  Burnout_Symptoms_No               50000 non-null  bool   \n",
      " 46  Burnout_Symptoms_Occasional       50000 non-null  bool   \n",
      " 47  Burnout_Symptoms_Yes              50000 non-null  bool   \n",
      " 48  Location_Tier-1                   50000 non-null  bool   \n",
      " 49  Location_Tier-2                   50000 non-null  bool   \n",
      " 50  Location_Tier-3                   50000 non-null  bool   \n",
      "dtypes: bool(34), float64(10), int64(7)\n",
      "memory usage: 8.1 MB\n"
     ]
    }
   ],
   "source": [
    "df_encoded.info()"
   ]
  },
  {
   "cell_type": "code",
   "execution_count": 14,
   "metadata": {},
   "outputs": [],
   "source": [
    "# Input va Outoutlarni ajratib olamiz\n",
    "y = df_encoded[\"Stress_Level\"]\n",
    "x = df_encoded.drop(columns=[\"Stress_Level\"])"
   ]
  },
  {
   "cell_type": "code",
   "execution_count": 15,
   "metadata": {},
   "outputs": [],
   "source": [
    "# Tushib qolgan qiymatlarni tekshiramiz va median bilan to'ldiramiz\n",
    "x.fillna(x.median(), inplace=True)"
   ]
  },
  {
   "cell_type": "code",
   "execution_count": 16,
   "metadata": {},
   "outputs": [
    {
     "name": "stdout",
     "output_type": "stream",
     "text": [
      "<class 'pandas.core.frame.DataFrame'>\n",
      "RangeIndex: 50000 entries, 0 to 49999\n",
      "Data columns (total 50 columns):\n",
      " #   Column                            Non-Null Count  Dtype  \n",
      "---  ------                            --------------  -----  \n",
      " 0   Age                               50000 non-null  int64  \n",
      " 1   Experience_Years                  50000 non-null  int64  \n",
      " 2   Monthly_Salary_INR                50000 non-null  float64\n",
      " 3   Working_Hours_per_Week            50000 non-null  int64  \n",
      " 4   Commute_Time_Hours                50000 non-null  float64\n",
      " 5   Remote_Work                       50000 non-null  bool   \n",
      " 6   Sleep_Hours                       50000 non-null  float64\n",
      " 7   Physical_Activity_Hours_per_Week  50000 non-null  float64\n",
      " 8   Manager_Support_Level             50000 non-null  int64  \n",
      " 9   Work_Pressure_Level               50000 non-null  float64\n",
      " 10  Annual_Leaves_Taken               50000 non-null  float64\n",
      " 11  Work_Life_Balance                 50000 non-null  float64\n",
      " 12  Family_Support_Level              50000 non-null  int64  \n",
      " 13  Job_Satisfaction                  50000 non-null  int64  \n",
      " 14  Performance_Rating                50000 non-null  float64\n",
      " 15  Team_Size                         50000 non-null  int64  \n",
      " 16  Training_Opportunities            50000 non-null  bool   \n",
      " 17  Gender_Bias_Experienced           50000 non-null  bool   \n",
      " 18  Discrimination_Experienced        50000 non-null  bool   \n",
      " 19  Work_Stress_Index                 50000 non-null  float64\n",
      " 20  Gender_Male                       50000 non-null  bool   \n",
      " 21  Gender_Non-Binary                 50000 non-null  bool   \n",
      " 22  Marital_Status_Married            50000 non-null  bool   \n",
      " 23  Marital_Status_Single             50000 non-null  bool   \n",
      " 24  Marital_Status_Widowed            50000 non-null  bool   \n",
      " 25  Job_Role_Developer                50000 non-null  bool   \n",
      " 26  Job_Role_HR                       50000 non-null  bool   \n",
      " 27  Job_Role_Manager                  50000 non-null  bool   \n",
      " 28  Job_Role_Sales                    50000 non-null  bool   \n",
      " 29  Job_Role_Support                  50000 non-null  bool   \n",
      " 30  Health_Issues_Mental              50000 non-null  bool   \n",
      " 31  Health_Issues_Physical            50000 non-null  bool   \n",
      " 32  Company_Size_Medium               50000 non-null  bool   \n",
      " 33  Company_Size_Small                50000 non-null  bool   \n",
      " 34  Department_Finance                50000 non-null  bool   \n",
      " 35  Department_HR                     50000 non-null  bool   \n",
      " 36  Department_IT                     50000 non-null  bool   \n",
      " 37  Department_Marketing              50000 non-null  bool   \n",
      " 38  Department_Sales                  50000 non-null  bool   \n",
      " 39  Mental_Health_Leave_Taken_True    50000 non-null  bool   \n",
      " 40  Mental_Health_Leave_Taken_0       50000 non-null  bool   \n",
      " 41  Mental_Health_Leave_Taken_1       50000 non-null  bool   \n",
      " 42  Mental_Health_Leave_Taken_FALSE   50000 non-null  bool   \n",
      " 43  Mental_Health_Leave_Taken_TRUE    50000 non-null  bool   \n",
      " 44  Burnout_Symptoms_No               50000 non-null  bool   \n",
      " 45  Burnout_Symptoms_Occasional       50000 non-null  bool   \n",
      " 46  Burnout_Symptoms_Yes              50000 non-null  bool   \n",
      " 47  Location_Tier-1                   50000 non-null  bool   \n",
      " 48  Location_Tier-2                   50000 non-null  bool   \n",
      " 49  Location_Tier-3                   50000 non-null  bool   \n",
      "dtypes: bool(34), float64(9), int64(7)\n",
      "memory usage: 7.7 MB\n"
     ]
    }
   ],
   "source": [
    "x.info()"
   ]
  },
  {
   "cell_type": "code",
   "execution_count": 18,
   "metadata": {},
   "outputs": [],
   "source": [
    "# O'zaro bog'liqlikni aniqlash uchun mutual_info_classif funktsiyasidan foydalanamiz\n",
    "mi_scores = mutual_info_classif(x, y, discrete_features=\"auto\")"
   ]
  },
  {
   "cell_type": "code",
   "execution_count": 20,
   "metadata": {},
   "outputs": [],
   "source": [
    "# Mutual Information natijalarini o'z ichiga oladigan DataFrame yaratamiz\n",
    "mi_results = pd.DataFrame({\"Feature\": x.columns, \"Mutual Information\": mi_scores})\n",
    "mi_results = mi_results.sort_values(by=\"Mutual Information\", ascending=False)"
   ]
  },
  {
   "cell_type": "code",
   "execution_count": 21,
   "metadata": {},
   "outputs": [
    {
     "name": "stdout",
     "output_type": "stream",
     "text": [
      "+----+----------------------------------+------------------------+\n",
      "|    |             Feature              |   Mutual Information   |\n",
      "+----+----------------------------------+------------------------+\n",
      "| 7  | Physical_Activity_Hours_per_Week |  0.006958766691072871  |\n",
      "| 12 |       Family_Support_Level       |  0.006947990824952566  |\n",
      "| 40 |   Mental_Health_Leave_Taken_0    |  0.005467117436839697  |\n",
      "| 10 |       Annual_Leaves_Taken        |  0.003861989382168751  |\n",
      "| 29 |         Job_Role_Support         |  0.003698288238334957  |\n",
      "| 49 |         Location_Tier-3          |  0.003269467532297732  |\n",
      "| 1  |         Experience_Years         |  0.003006547270873572  |\n",
      "| 20 |           Gender_Male            |  0.002962030768298707  |\n",
      "| 41 |   Mental_Health_Leave_Taken_1    |  0.002320909729302212  |\n",
      "| 31 |      Health_Issues_Physical      |  0.00221157769084801   |\n",
      "| 28 |          Job_Role_Sales          | 0.0019686620580321446  |\n",
      "| 47 |         Location_Tier-1          | 0.0019371025261518682  |\n",
      "| 6  |           Sleep_Hours            | 0.0018652779378682816  |\n",
      "| 48 |         Location_Tier-2          | 0.0017621564110190668  |\n",
      "| 26 |           Job_Role_HR            | 0.0016686998059536329  |\n",
      "| 21 |        Gender_Non-Binary         | 0.0015038135877665226  |\n",
      "| 38 |         Department_Sales         | 0.0009666774830976443  |\n",
      "| 33 |        Company_Size_Small        | 0.0009596764233963384  |\n",
      "| 9  |       Work_Pressure_Level        | 0.0008992465700661256  |\n",
      "| 39 |  Mental_Health_Leave_Taken_True  | 0.0008377120064908539  |\n",
      "| 32 |       Company_Size_Medium        | 0.0006952927866099579  |\n",
      "| 5  |           Remote_Work            | 0.00048820063339372055 |\n",
      "| 30 |       Health_Issues_Mental       | 0.0004423945887892522  |\n",
      "| 44 |       Burnout_Symptoms_No        | 0.0003256490650542787  |\n",
      "| 13 |         Job_Satisfaction         | 0.00026462822938144726 |\n",
      "| 16 |      Training_Opportunities      | 0.00021058758942915645 |\n",
      "| 24 |      Marital_Status_Widowed      | 0.00018776043658297326 |\n",
      "| 0  |               Age                |          0.0           |\n",
      "| 14 |        Performance_Rating        |          0.0           |\n",
      "| 11 |        Work_Life_Balance         |          0.0           |\n",
      "| 4  |        Commute_Time_Hours        |          0.0           |\n",
      "| 3  |      Working_Hours_per_Week      |          0.0           |\n",
      "| 2  |        Monthly_Salary_INR        |          0.0           |\n",
      "| 8  |      Manager_Support_Level       |          0.0           |\n",
      "| 17 |     Gender_Bias_Experienced      |          0.0           |\n",
      "| 15 |            Team_Size             |          0.0           |\n",
      "| 27 |         Job_Role_Manager         |          0.0           |\n",
      "| 22 |      Marital_Status_Married      |          0.0           |\n",
      "| 18 |    Discrimination_Experienced    |          0.0           |\n",
      "| 25 |        Job_Role_Developer        |          0.0           |\n",
      "| 23 |      Marital_Status_Single       |          0.0           |\n",
      "| 19 |        Work_Stress_Index         |          0.0           |\n",
      "| 34 |        Department_Finance        |          0.0           |\n",
      "| 35 |          Department_HR           |          0.0           |\n",
      "| 36 |          Department_IT           |          0.0           |\n",
      "| 37 |       Department_Marketing       |          0.0           |\n",
      "| 45 |   Burnout_Symptoms_Occasional    |          0.0           |\n",
      "| 43 |  Mental_Health_Leave_Taken_TRUE  |          0.0           |\n",
      "| 42 | Mental_Health_Leave_Taken_FALSE  |          0.0           |\n",
      "| 46 |       Burnout_Symptoms_Yes       |          0.0           |\n",
      "+----+----------------------------------+------------------------+\n"
     ]
    }
   ],
   "source": [
    "# Natijani jadval shaklida chiqaramiz\n",
    "print(tabulate(mi_results, headers=\"keys\", tablefmt=\"pretty\"))"
   ]
  }
 ],
 "metadata": {
  "kernelspec": {
   "display_name": "Python 3",
   "language": "python",
   "name": "python3"
  },
  "language_info": {
   "codemirror_mode": {
    "name": "ipython",
    "version": 3
   },
   "file_extension": ".py",
   "mimetype": "text/x-python",
   "name": "python",
   "nbconvert_exporter": "python",
   "pygments_lexer": "ipython3",
   "version": "3.13.1"
  }
 },
 "nbformat": 4,
 "nbformat_minor": 2
}
